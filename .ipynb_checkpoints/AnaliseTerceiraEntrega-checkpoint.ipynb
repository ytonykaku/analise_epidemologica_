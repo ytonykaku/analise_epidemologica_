{
 "cells": [
  {
   "cell_type": "code",
   "execution_count": null,
   "id": "83db6357-d6e7-4390-a6d2-826b96d98c62",
   "metadata": {},
   "outputs": [],
   "source": [
    "import pandas as pd\n",
    "import matplotlib.pyplot as plt\n",
    "import numpy as np\n",
    "from sklearn.preprocessing import PolynomialFeatures\n",
    "from sklearn.linear_model import LinearRegression\n",
    "from sklearn.pipeline import make_pipeline\n",
    "\n",
    "def calcular_taxa_notificacoes(arquivo_csv, arquivo_populacao):\n",
    "    df = pd.read_csv(arquivo_csv)\n",
    "    df_populacao = pd.read_csv(arquivo_populacao)\n",
    "    \n",
    "    df['dataNotificacao'] = pd.to_datetime(df['dataNotificacao'], errors='coerce')\n",
    "    df = df.dropna(subset=['dataNotificacao'])\n",
    "    df = df[df['dataNotificacao'].dt.year > 2021]\n",
    "    \n",
    "    df['ano_mes'] = df['dataNotificacao'].dt.to_period('M').astype(str)\n",
    "    \n",
    "    # Agrupar por município e mês\n",
    "    notificacoes_por_municipio = df.groupby(['municipioNotificacao', 'ano_mes']).size().reset_index(name='quantidade')\n",
    "    \n",
    "    # Associar população a cada município\n",
    "    df_populacao.rename(columns={\"Município\": \"municipioNotificacao\", \"População\": \"populacao\"}, inplace=True)\n",
    "    notificacoes_por_municipio = notificacoes_por_municipio.merge(df_populacao, on=\"municipioNotificacao\", how=\"left\")\n",
    "    \n",
    "    # Calcular taxa por 100.000 habitantes\n",
    "    notificacoes_por_municipio['taxa_100k'] = (notificacoes_por_municipio['quantidade'] / notificacoes_por_municipio['populacao']) * 100000\n",
    "    notificacoes_por_municipio.dropna(inplace=True)  # Remover cidades sem dados de população\n",
    "    \n",
    "    return notificacoes_por_municipio\n",
    "\n",
    "def plotar_top_10_municipios(notificacoes_por_municipio):\n",
    "    top_10 = notificacoes_por_municipio.groupby(\"municipioNotificacao\")[\"quantidade\"].sum().nlargest(10)\n",
    "    \n",
    "    top_10_df = notificacoes_por_municipio[notificacoes_por_municipio[\"municipioNotificacao\"].isin(top_10.index)]\n",
    "    pivot_df = top_10_df.pivot(index=\"ano_mes\", columns=\"municipioNotificacao\", values=\"quantidade\").fillna(0)\n",
    "    \n",
    "    pivot_df.plot(kind='bar', stacked=True, figsize=(12, 6))\n",
    "    plt.xticks(rotation=45)\n",
    "    plt.xlabel(\"Ano-Mês\")\n",
    "    plt.ylabel(\"Número de Notificações\")\n",
    "    plt.title(\"Top 10 Municípios com Maior Número de Notificações\")\n",
    "    plt.legend(title=\"Municípios\")\n",
    "    plt.grid()\n",
    "    plt.show()\n",
    "\n",
    "def prever_proximo_mes(notificacoes_por_mes):\n",
    "    notificacoes_por_mes['ano_mes'] = pd.to_datetime(notificacoes_por_mes['ano_mes'].astype(str))\n",
    "    notificacoes_por_mes['timestamp'] = (notificacoes_por_mes['ano_mes'] - notificacoes_por_mes['ano_mes'].min()).dt.days\n",
    "    \n",
    "    X = notificacoes_por_mes[['timestamp']]\n",
    "    y = notificacoes_por_mes['quantidade']\n",
    "    \n",
    "    # Criando um modelo de regressão polinomial de grau 2\n",
    "    modelo = make_pipeline(PolynomialFeatures(2), LinearRegression())\n",
    "    modelo.fit(X, y)\n",
    "    \n",
    "    proximo_mes = np.array([[notificacoes_por_mes['timestamp'].max() + 30]])\n",
    "    previsao = modelo.predict(proximo_mes)\n",
    "    \n",
    "    # Não permitir que a previsão seja negativa\n",
    "    previsao = max(0, previsao[0])\n",
    "    \n",
    "    print(\"Previsão para o próximo mês:\", previsao)\n",
    "    return previsao\n",
    "\n",
    "def prever_top_10_municipios(notificacoes_por_municipio):\n",
    "    top_10 = notificacoes_por_municipio.groupby(\"municipioNotificacao\")[\"quantidade\"].sum().nlargest(10).index\n",
    "    previsoes = {}\n",
    "    \n",
    "    for municipio in top_10:\n",
    "        subset = notificacoes_por_municipio[notificacoes_por_municipio[\"municipioNotificacao\"] == municipio]\n",
    "        previsoes[municipio] = prever_proximo_mes(subset)\n",
    "    \n",
    "    return previsoes\n",
    "\n",
    "# Sugestões de outros modelos:\n",
    "# - Regressão Linear Simples: Fácil de interpretar, mas pode não capturar padrões complexos.\n",
    "# - ARIMA: Boa para séries temporais, mas requer ajustes de parâmetros.\n",
    "# - Redes Neurais (LSTM/RNN): Captura padrões complexos, mas exige mais dados e poder computacional.\n",
    "\n",
    "# Chamada da função (substituir 'dados_completos.csv' e 'municipios_habitantes_mg.csv' pelo nome correto dos arquivos CSV)\n",
    "# df_resultado = calcular_taxa_notificacoes('dados_completos.csv', 'municipios_habitantes_mg.csv')\n",
    "# plotar_top_10_municipios(df_resultado)\n",
    "# previsoes_top_10 = prever_top_10_municipios(df_resultado)"
   ]
  },
  {
   "cell_type": "code",
   "execution_count": 3,
   "id": "9a9005db-49b9-4092-bd69-78f88b98862f",
   "metadata": {},
   "outputs": [
    {
     "ename": "NameError",
     "evalue": "name 'calcular_taxa_notificacoes' is not defined",
     "output_type": "error",
     "traceback": [
      "\u001b[0;31m---------------------------------------------------------------------------\u001b[0m",
      "\u001b[0;31mNameError\u001b[0m                                 Traceback (most recent call last)",
      "\u001b[0;32m/tmp/ipykernel_3672/2499992511.py\u001b[0m in \u001b[0;36m<module>\u001b[0;34m\u001b[0m\n\u001b[0;32m----> 1\u001b[0;31m \u001b[0mdf_resultado\u001b[0m \u001b[0;34m=\u001b[0m \u001b[0mcalcular_taxa_notificacoes\u001b[0m\u001b[0;34m(\u001b[0m\u001b[0;34m'dados_completos.csv'\u001b[0m\u001b[0;34m,\u001b[0m \u001b[0;34m'municipios_habitantes_mg.csv'\u001b[0m\u001b[0;34m)\u001b[0m\u001b[0;34m\u001b[0m\u001b[0;34m\u001b[0m\u001b[0m\n\u001b[0m",
      "\u001b[0;31mNameError\u001b[0m: name 'calcular_taxa_notificacoes' is not defined"
     ]
    }
   ],
   "source": [
    "df_resultado = calcular_taxa_notificacoes('dados_completos.csv', 'municipios_habitantes_mg.csv')"
   ]
  },
  {
   "cell_type": "code",
   "execution_count": null,
   "id": "420d42b5-93cf-4644-b5f7-706d11d5d7a2",
   "metadata": {},
   "outputs": [],
   "source": []
  },
  {
   "cell_type": "code",
   "execution_count": null,
   "id": "f9d9ea39-f72a-4e61-85e3-b76ea0d49f62",
   "metadata": {},
   "outputs": [],
   "source": [
    "plotar_top_10_municipios(df_resultado)\n"
   ]
  },
  {
   "cell_type": "code",
   "execution_count": null,
   "id": "82843f21-2c7f-40a0-9445-2e98de6cd235",
   "metadata": {},
   "outputs": [],
   "source": [
    "previsoes_top_10 = prever_top_10_municipios(df_resultado)\n"
   ]
  },
  {
   "cell_type": "code",
   "execution_count": null,
   "id": "46d1183e-7260-4282-801c-31f2372b5cc9",
   "metadata": {},
   "outputs": [],
   "source": [
    "previsoes_top_10"
   ]
  }
 ],
 "metadata": {
  "kernelspec": {
   "display_name": "Python 3 (ipykernel)",
   "language": "python",
   "name": "python3"
  },
  "language_info": {
   "codemirror_mode": {
    "name": "ipython",
    "version": 3
   },
   "file_extension": ".py",
   "mimetype": "text/x-python",
   "name": "python",
   "nbconvert_exporter": "python",
   "pygments_lexer": "ipython3",
   "version": "3.10.12"
  }
 },
 "nbformat": 4,
 "nbformat_minor": 5
}
