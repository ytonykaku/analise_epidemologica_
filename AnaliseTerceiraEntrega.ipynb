{
 "cells": [
  {
   "cell_type": "code",
   "execution_count": 6,
   "id": "83db6357-d6e7-4390-a6d2-826b96d98c62",
   "metadata": {},
   "outputs": [
    {
     "name": "stderr",
     "output_type": "stream",
     "text": [
      "/home/tonykaku/.local/lib/python3.10/site-packages/matplotlib/projections/__init__.py:63: UserWarning: Unable to import Axes3D. This may be due to multiple versions of Matplotlib being installed (e.g. as a system package and as a pip package). As a result, the 3D projection is not available.\n",
      "  warnings.warn(\"Unable to import Axes3D. This may be due to multiple versions of \"\n"
     ]
    }
   ],
   "source": [
    "import pandas as pd\n",
    "import matplotlib.pyplot as plt\n",
    "import numpy as np\n",
    "from sklearn.preprocessing import PolynomialFeatures\n",
    "from sklearn.linear_model import LinearRegression\n",
    "from sklearn.pipeline import make_pipeline\n",
    "\n",
    "def calcular_taxa_notificacoes(arquivo_csv, arquivo_populacao):\n",
    "    df = pd.read_csv(arquivo_csv)\n",
    "    df_populacao = pd.read_csv(arquivo_populacao)\n",
    "    \n",
    "    df['dataNotificacao'] = pd.to_datetime(df['dataNotificacao'], errors='coerce')\n",
    "    df = df.dropna(subset=['dataNotificacao'])\n",
    "    df = df[df['dataNotificacao'].dt.year > 2021]\n",
    "    \n",
    "    df['ano_mes'] = df['dataNotificacao'].dt.to_period('M').astype(str)\n",
    "    \n",
    "    # Agrupar por município e mês\n",
    "    notificacoes_por_municipio = df.groupby(['municipioNotificacao', 'ano_mes']).size().reset_index(name='quantidade')\n",
    "    \n",
    "    # Associar população a cada município\n",
    "    df_populacao.rename(columns={\"Município\": \"municipioNotificacao\", \"População\": \"populacao\"}, inplace=True)\n",
    "    notificacoes_por_municipio = notificacoes_por_municipio.merge(df_populacao, on=\"municipioNotificacao\", how=\"left\")\n",
    "    \n",
    "    # Calcular taxa por 100.000 habitantes\n",
    "    notificacoes_por_municipio['taxa_100k'] = (notificacoes_por_municipio['quantidade'] / notificacoes_por_municipio['populacao']) * 100000\n",
    "    notificacoes_por_municipio.dropna(inplace=True)  # Remover cidades sem dados de população\n",
    "    \n",
    "    return notificacoes_por_municipio\n",
    "\n",
    "def plotar_top_10_municipios(notificacoes_por_municipio):\n",
    "    top_10 = notificacoes_por_municipio.groupby(\"municipioNotificacao\")[\"quantidade\"].sum().nlargest(10)\n",
    "    \n",
    "    top_10_df = notificacoes_por_municipio[notificacoes_por_municipio[\"municipioNotificacao\"].isin(top_10.index)]\n",
    "    pivot_df = top_10_df.pivot(index=\"ano_mes\", columns=\"municipioNotificacao\", values=\"quantidade\").fillna(0)\n",
    "    \n",
    "    pivot_df.plot(kind='bar', stacked=True, figsize=(12, 6))\n",
    "    plt.xticks(rotation=45)\n",
    "    plt.xlabel(\"Ano-Mês\")\n",
    "    plt.ylabel(\"Número de Notificações\")\n",
    "    plt.title(\"Top 10 Municípios com Maior Número de Notificações\")\n",
    "    plt.legend(title=\"Municípios\")\n",
    "    plt.grid()\n",
    "    plt.show()\n",
    "\n",
    "def prever_proximo_mes(notificacoes_por_mes):\n",
    "    notificacoes_por_mes['ano_mes'] = pd.to_datetime(notificacoes_por_mes['ano_mes'].astype(str))\n",
    "    notificacoes_por_mes['timestamp'] = (notificacoes_por_mes['ano_mes'] - notificacoes_por_mes['ano_mes'].min()).dt.days\n",
    "    \n",
    "    X = notificacoes_por_mes[['timestamp']]\n",
    "    y = notificacoes_por_mes['quantidade']\n",
    "    \n",
    "    # Criando um modelo de regressão polinomial de grau 2\n",
    "    modelo = make_pipeline(PolynomialFeatures(2), LinearRegression())\n",
    "    modelo.fit(X, y)\n",
    "    \n",
    "    proximo_mes = np.array([[notificacoes_por_mes['timestamp'].max() + 30]])\n",
    "    previsao = modelo.predict(proximo_mes)\n",
    "    \n",
    "    # Não permitir que a previsão seja negativa\n",
    "    previsao = max(0, previsao[0])\n",
    "    \n",
    "    print(\"Previsão para o próximo mês:\", previsao)\n",
    "    return previsao\n",
    "\n",
    "def prever_top_10_municipios(notificacoes_por_municipio):\n",
    "    top_10 = notificacoes_por_municipio.groupby(\"municipioNotificacao\")[\"quantidade\"].sum().nlargest(10).index\n",
    "    previsoes = {}\n",
    "    \n",
    "    for municipio in top_10:\n",
    "        subset = notificacoes_por_municipio[notificacoes_por_municipio[\"municipioNotificacao\"] == municipio]\n",
    "        previsoes[municipio] = prever_proximo_mes(subset)\n",
    "    \n",
    "    return previsoes\n",
    "\n",
    "# Sugestões de outros modelos:\n",
    "# - Regressão Linear Simples: Fácil de interpretar, mas pode não capturar padrões complexos.\n",
    "# - ARIMA: Boa para séries temporais, mas requer ajustes de parâmetros.\n",
    "# - Redes Neurais (LSTM/RNN): Captura padrões complexos, mas exige mais dados e poder computacional.\n",
    "\n",
    "# Chamada da função (substituir 'dados_completos.csv' e 'municipios_habitantes_mg.csv' pelo nome correto dos arquivos CSV)\n",
    "# df_resultado = calcular_taxa_notificacoes('dados_completos.csv', 'municipios_habitantes_mg.csv')\n",
    "# plotar_top_10_municipios(df_resultado)\n",
    "# previsoes_top_10 = prever_top_10_municipios(df_resultado)"
   ]
  },
  {
   "cell_type": "code",
   "execution_count": null,
   "id": "9a9005db-49b9-4092-bd69-78f88b98862f",
   "metadata": {},
   "outputs": [
    {
     "name": "stderr",
     "output_type": "stream",
     "text": [
      "/tmp/ipykernel_3672/300807083.py:9: DtypeWarning: Columns (12,16,21,23,26,31,33,34,37,57,58,62) have mixed types. Specify dtype option on import or set low_memory=False.\n",
      "  df = pd.read_csv(arquivo_csv)\n"
     ]
    }
   ],
   "source": [
    "df_resultado = calcular_taxa_notificacoes('dados_completos.csv', 'municipios_habitantes_mg.csv')"
   ]
  },
  {
   "cell_type": "code",
   "execution_count": null,
   "id": "f9d9ea39-f72a-4e61-85e3-b76ea0d49f62",
   "metadata": {},
   "outputs": [],
   "source": [
    "plotar_top_10_municipios(df_resultado)\n"
   ]
  },
  {
   "cell_type": "code",
   "execution_count": null,
   "id": "82843f21-2c7f-40a0-9445-2e98de6cd235",
   "metadata": {},
   "outputs": [],
   "source": [
    "previsoes_top_10 = prever_top_10_municipios(df_resultado)\n"
   ]
  },
  {
   "cell_type": "code",
   "execution_count": null,
   "id": "46d1183e-7260-4282-801c-31f2372b5cc9",
   "metadata": {},
   "outputs": [],
   "source": [
    "previsoes_top_10"
   ]
  },
  {
   "cell_type": "code",
   "execution_count": null,
   "id": "e824863f-361d-4aa5-8fef-82c97512872c",
   "metadata": {},
   "outputs": [],
   "source": []
  }
 ],
 "metadata": {
  "kernelspec": {
   "display_name": "Python 3 (ipykernel)",
   "language": "python",
   "name": "python3"
  },
  "language_info": {
   "codemirror_mode": {
    "name": "ipython",
    "version": 3
   },
   "file_extension": ".py",
   "mimetype": "text/x-python",
   "name": "python",
   "nbconvert_exporter": "python",
   "pygments_lexer": "ipython3",
   "version": "3.10.12"
  }
 },
 "nbformat": 4,
 "nbformat_minor": 5
}
